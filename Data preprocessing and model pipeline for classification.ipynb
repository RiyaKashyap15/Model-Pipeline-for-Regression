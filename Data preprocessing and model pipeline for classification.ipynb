{
 "cells": [
  {
   "cell_type": "markdown",
   "id": "5498c704",
   "metadata": {},
   "source": [
    "### Problem Statement:"
   ]
  },
  {
   "cell_type": "markdown",
   "id": "d6607772",
   "metadata": {},
   "source": [
    "##### To understand which clients are more likely to buy the short term deposit so as to target the audience effectively and effeciently.    "
   ]
  },
  {
   "cell_type": "code",
   "execution_count": 1,
   "id": "79936893",
   "metadata": {},
   "outputs": [],
   "source": [
    "# pip install xgboost==1.2.0"
   ]
  },
  {
   "cell_type": "code",
   "execution_count": 12,
   "id": "cc363127",
   "metadata": {},
   "outputs": [],
   "source": [
    "import pandas as pd\n",
    "import numpy as np\n",
    "import matplotlib.pyplot as plt \n",
    "import seaborn as sns\n",
    "from plotly.offline import plot\n",
    "import plotly\n",
    "import plotly.offline as pyoff\n",
    "import plotly.figure_factory as ff\n",
    "from plotly.offline import init_notebook_mode, iplot, plot\n",
    "import plotly.graph_objs as go\n",
    "import os\n",
    "\n",
    "\n",
    "from imblearn.over_sampling import SMOTE\n",
    "from sklearn.impute import SimpleImputer\n",
    "from sklearn.compose import ColumnTransformer\n",
    "from sklearn.pipeline import Pipeline\n",
    "from sklearn.preprocessing import StandardScaler\n",
    "from sklearn.preprocessing import OneHotEncoder\n",
    "from sklearn.model_selection import GridSearchCV, RandomizedSearchCV\n",
    "from sklearn.ensemble import RandomForestClassifier\n",
    "from sklearn.ensemble import AdaBoostClassifier, GradientBoostingClassifier\n",
    "import xgboost as xgb\n",
    "from sklearn.svm import SVC\n",
    "from sklearn.neighbors import KNeighborsClassifier\n",
    "from sklearn.naive_bayes import GaussianNB\n",
    "from sklearn.linear_model import LogisticRegression\n",
    "\n",
    "\n",
    "from sklearn.model_selection import train_test_split #split\n",
    "from sklearn.metrics import confusion_matrix\n",
    "from sklearn.metrics import accuracy_score, recall_score, confusion_matrix\n",
    "from sklearn.metrics import accuracy_score #metrics\n",
    "from sklearn.metrics import precision_score\n",
    "from sklearn.metrics import classification_report\n",
    "\n",
    "#tools for hyperparameters search\n",
    "from sklearn.model_selection import StratifiedKFold\n",
    "from sklearn.model_selection import RandomizedSearchCV, GridSearchCV\n"
   ]
  },
  {
   "cell_type": "code",
   "execution_count": 13,
   "id": "42f656ed",
   "metadata": {},
   "outputs": [
    {
     "data": {
      "text/plain": [
       "'C:\\\\Users\\\\User\\\\Desktop\\\\Insofe'"
      ]
     },
     "execution_count": 13,
     "metadata": {},
     "output_type": "execute_result"
    }
   ],
   "source": [
    "os.getcwd()"
   ]
  },
  {
   "cell_type": "code",
   "execution_count": 14,
   "id": "4d43c609",
   "metadata": {
    "scrolled": false
   },
   "outputs": [
    {
     "name": "stdout",
     "output_type": "stream",
     "text": [
      "   age        job  marital    education credit_default housing loan  \\\n",
      "0   56  housemaid  married        basic             no      no   no   \n",
      "1   57   services  married  high.school        unknown      no   no   \n",
      "2   37   services  married  high.school             no     yes   no   \n",
      "3   40     admin.  married        basic             no      no   no   \n",
      "4   56   services  married  high.school             no      no  yes   \n",
      "\n",
      "     contact contacted_month day_of_week  ...  previous     poutcome  \\\n",
      "0  telephone             may         mon  ...         0  nonexistent   \n",
      "1  telephone             may         mon  ...         0  nonexistent   \n",
      "2  telephone             may         mon  ...         0  nonexistent   \n",
      "3  telephone             may         mon  ...         0  nonexistent   \n",
      "4  telephone             may         mon  ...         0  nonexistent   \n",
      "\n",
      "   emp_var_rate  cons_price_idx cons_conf_idx  euribor3m  nr_employed   y  \\\n",
      "0           1.1          93.994         -36.4      4.857       5191.0  no   \n",
      "1           1.1          93.994         -36.4      4.857       5191.0  no   \n",
      "2           1.1          93.994         -36.4      4.857       5191.0  no   \n",
      "3           1.1          93.994         -36.4      4.857       5191.0  no   \n",
      "4           1.1          93.994         -36.4      4.857       5191.0  no   \n",
      "\n",
      "   Binned_by_mins  AgeGroup  \n",
      "0  Less than 2min   Married  \n",
      "1  Less than 2min   Married  \n",
      "2  Less than 2min   Married  \n",
      "3  Less than 2min   Married  \n",
      "4  Less than 2min   Married  \n",
      "\n",
      "[5 rows x 23 columns]\n",
      "   customer_no  age          job  marital          education credit_default  \\\n",
      "0        15725   36   technician  married           basic.4y             no   \n",
      "1        28030   39     services  married        high.school             no   \n",
      "2        17730   54   management  married  university.degree             no   \n",
      "3        15377   43  blue-collar  married           basic.9y             no   \n",
      "4         7763   26   management   single  university.degree             no   \n",
      "\n",
      "  housing loan    contact contacted_month  ... campaign  pdays  previous  \\\n",
      "0      no   no   cellular             jul  ...        1    999         0   \n",
      "1      no   no   cellular             apr  ...        2    999         2   \n",
      "2      no  yes   cellular             jul  ...        1    999         0   \n",
      "3     yes   no   cellular             jul  ...        1    999         0   \n",
      "4      no   no  telephone             jun  ...        3    999         0   \n",
      "\n",
      "      poutcome  emp_var_rate cons_price_idx  cons_conf_idx  euribor3m  \\\n",
      "0  nonexistent           1.4         93.918          -42.7      4.960   \n",
      "1      failure          -1.8         93.075          -47.1      1.483   \n",
      "2  nonexistent           1.4         93.918          -42.7      4.961   \n",
      "3  nonexistent           1.4         93.918          -42.7      4.957   \n",
      "4  nonexistent           1.4         94.465          -41.8      4.865   \n",
      "\n",
      "   nr_employed    y  \n",
      "0       5228.1  yes  \n",
      "1       5099.1   no  \n",
      "2       5228.1   no  \n",
      "3       5228.1   no  \n",
      "4       5228.1   no  \n",
      "\n",
      "[5 rows x 22 columns]\n"
     ]
    },
    {
     "data": {
      "text/plain": [
       "Index(['age', 'job', 'marital', 'education', 'credit_default', 'housing',\n",
       "       'loan', 'contact', 'contacted_month', 'day_of_week', 'duration',\n",
       "       'campaign', 'pdays', 'previous', 'poutcome', 'emp_var_rate',\n",
       "       'cons_price_idx', 'cons_conf_idx', 'euribor3m', 'nr_employed', 'y',\n",
       "       'Binned_by_mins', 'AgeGroup'],\n",
       "      dtype='object')"
      ]
     },
     "execution_count": 14,
     "metadata": {},
     "output_type": "execute_result"
    }
   ],
   "source": [
    "# READING THE DATASET via pickle\n",
    "#df_sales = pd.read_pickle('sales_df.pkl')\n",
    "df = pd.read_csv('Insofe.csv',sep=',')\n",
    "test_data = pd.read_csv('test_cases.csv',sep=',')\n",
    "print(df.head())\n",
    "print(test_data.head())\n",
    "df.columns"
   ]
  },
  {
   "cell_type": "code",
   "execution_count": 15,
   "id": "b4d48ad7",
   "metadata": {},
   "outputs": [
    {
     "data": {
      "text/plain": [
       "age                  int64\n",
       "job                 object\n",
       "marital             object\n",
       "education           object\n",
       "credit_default      object\n",
       "housing             object\n",
       "loan                object\n",
       "contact             object\n",
       "contacted_month     object\n",
       "day_of_week         object\n",
       "duration             int64\n",
       "campaign             int64\n",
       "pdays                int64\n",
       "previous             int64\n",
       "poutcome            object\n",
       "emp_var_rate       float64\n",
       "cons_price_idx     float64\n",
       "cons_conf_idx      float64\n",
       "euribor3m          float64\n",
       "nr_employed        float64\n",
       "y                   object\n",
       "Binned_by_mins      object\n",
       "AgeGroup            object\n",
       "dtype: object"
      ]
     },
     "execution_count": 15,
     "metadata": {},
     "output_type": "execute_result"
    }
   ],
   "source": [
    "df.dtypes"
   ]
  },
  {
   "cell_type": "markdown",
   "id": "2495daff",
   "metadata": {},
   "source": [
    "## Split into categorical and numerical attributes"
   ]
  },
  {
   "cell_type": "code",
   "execution_count": 16,
   "id": "394a0982",
   "metadata": {},
   "outputs": [
    {
     "ename": "IndexError",
     "evalue": "pop from empty list",
     "output_type": "error",
     "traceback": [
      "\u001b[1;31m---------------------------------------------------------------------------\u001b[0m",
      "\u001b[1;31mIndexError\u001b[0m                                Traceback (most recent call last)",
      "Input \u001b[1;32mIn [16]\u001b[0m, in \u001b[0;36m<cell line: 4>\u001b[1;34m()\u001b[0m\n\u001b[0;32m      1\u001b[0m cat_attr \u001b[38;5;241m=\u001b[39m \u001b[38;5;28mlist\u001b[39m(df\u001b[38;5;241m.\u001b[39mselect_dtypes(\u001b[38;5;124m\"\u001b[39m\u001b[38;5;124mcategory\u001b[39m\u001b[38;5;124m\"\u001b[39m)\u001b[38;5;241m.\u001b[39mcolumns)\n\u001b[0;32m      2\u001b[0m num_attr \u001b[38;5;241m=\u001b[39m \u001b[38;5;28mlist\u001b[39m(df\u001b[38;5;241m.\u001b[39mcolumns\u001b[38;5;241m.\u001b[39mdifference(cat_attr))\n\u001b[1;32m----> 4\u001b[0m \u001b[43mcat_attr\u001b[49m\u001b[38;5;241;43m.\u001b[39;49m\u001b[43mpop\u001b[49m\u001b[43m(\u001b[49m\u001b[38;5;241;43m-\u001b[39;49m\u001b[38;5;241;43m2\u001b[39;49m\u001b[43m)\u001b[49m\n",
      "\u001b[1;31mIndexError\u001b[0m: pop from empty list"
     ]
    }
   ],
   "source": [
    "cat_attr = list(df.select_dtypes(\"category\").columns)\n",
    "num_attr = list(df.columns.difference(cat_attr))\n",
    "\n",
    "cat_attr.pop(-2)#popping out the target variable"
   ]
  },
  {
   "cell_type": "markdown",
   "id": "926478a2",
   "metadata": {},
   "source": [
    "## Instantiate Pre-processing Objects for Pipeline"
   ]
  },
  {
   "cell_type": "code",
   "execution_count": null,
   "id": "e3c3c2c8",
   "metadata": {},
   "outputs": [],
   "source": [
    "\n",
    "numeric_transformer = Pipeline(steps=[\n",
    "    ('imputer', SimpleImputer(strategy='median')),\n",
    "    ('scaler', StandardScaler())])\n",
    "\n",
    "categorical_transformer = Pipeline(steps=[\n",
    "    ('imputer', SimpleImputer(strategy='most_frequent',fill_value=\"missing_value\")),\n",
    "    ('onehot', OneHotEncoder(handle_unknown='ignore'))])\n",
    "\n",
    "preprocessor = ColumnTransformer(\n",
    "    transformers=[\n",
    "        ('num', numeric_transformer, num_attr),\n",
    "        ('cat', categorical_transformer, cat_attr)])"
   ]
  },
  {
   "cell_type": "markdown",
   "id": "ede9c354",
   "metadata": {},
   "source": [
    "## Train-Test Split"
   ]
  },
  {
   "cell_type": "code",
   "execution_count": 19,
   "id": "463518b7",
   "metadata": {
    "scrolled": true
   },
   "outputs": [
    {
     "data": {
      "text/html": [
       "<div>\n",
       "<style scoped>\n",
       "    .dataframe tbody tr th:only-of-type {\n",
       "        vertical-align: middle;\n",
       "    }\n",
       "\n",
       "    .dataframe tbody tr th {\n",
       "        vertical-align: top;\n",
       "    }\n",
       "\n",
       "    .dataframe thead th {\n",
       "        text-align: right;\n",
       "    }\n",
       "</style>\n",
       "<table border=\"1\" class=\"dataframe\">\n",
       "  <thead>\n",
       "    <tr style=\"text-align: right;\">\n",
       "      <th></th>\n",
       "      <th>age</th>\n",
       "      <th>job</th>\n",
       "      <th>marital</th>\n",
       "      <th>education</th>\n",
       "      <th>credit_default</th>\n",
       "      <th>housing</th>\n",
       "      <th>loan</th>\n",
       "      <th>contact</th>\n",
       "      <th>contacted_month</th>\n",
       "      <th>day_of_week</th>\n",
       "      <th>...</th>\n",
       "      <th>pdays</th>\n",
       "      <th>previous</th>\n",
       "      <th>poutcome</th>\n",
       "      <th>emp_var_rate</th>\n",
       "      <th>cons_price_idx</th>\n",
       "      <th>cons_conf_idx</th>\n",
       "      <th>euribor3m</th>\n",
       "      <th>nr_employed</th>\n",
       "      <th>Binned_by_mins</th>\n",
       "      <th>AgeGroup</th>\n",
       "    </tr>\n",
       "  </thead>\n",
       "  <tbody>\n",
       "    <tr>\n",
       "      <th>0</th>\n",
       "      <td>56</td>\n",
       "      <td>housemaid</td>\n",
       "      <td>married</td>\n",
       "      <td>basic</td>\n",
       "      <td>no</td>\n",
       "      <td>no</td>\n",
       "      <td>no</td>\n",
       "      <td>telephone</td>\n",
       "      <td>may</td>\n",
       "      <td>mon</td>\n",
       "      <td>...</td>\n",
       "      <td>999</td>\n",
       "      <td>0</td>\n",
       "      <td>nonexistent</td>\n",
       "      <td>1.1</td>\n",
       "      <td>93.994</td>\n",
       "      <td>-36.4</td>\n",
       "      <td>4.857</td>\n",
       "      <td>5191.0</td>\n",
       "      <td>Less than 2min</td>\n",
       "      <td>Married</td>\n",
       "    </tr>\n",
       "    <tr>\n",
       "      <th>1</th>\n",
       "      <td>57</td>\n",
       "      <td>services</td>\n",
       "      <td>married</td>\n",
       "      <td>high.school</td>\n",
       "      <td>unknown</td>\n",
       "      <td>no</td>\n",
       "      <td>no</td>\n",
       "      <td>telephone</td>\n",
       "      <td>may</td>\n",
       "      <td>mon</td>\n",
       "      <td>...</td>\n",
       "      <td>999</td>\n",
       "      <td>0</td>\n",
       "      <td>nonexistent</td>\n",
       "      <td>1.1</td>\n",
       "      <td>93.994</td>\n",
       "      <td>-36.4</td>\n",
       "      <td>4.857</td>\n",
       "      <td>5191.0</td>\n",
       "      <td>Less than 2min</td>\n",
       "      <td>Married</td>\n",
       "    </tr>\n",
       "    <tr>\n",
       "      <th>2</th>\n",
       "      <td>37</td>\n",
       "      <td>services</td>\n",
       "      <td>married</td>\n",
       "      <td>high.school</td>\n",
       "      <td>no</td>\n",
       "      <td>yes</td>\n",
       "      <td>no</td>\n",
       "      <td>telephone</td>\n",
       "      <td>may</td>\n",
       "      <td>mon</td>\n",
       "      <td>...</td>\n",
       "      <td>999</td>\n",
       "      <td>0</td>\n",
       "      <td>nonexistent</td>\n",
       "      <td>1.1</td>\n",
       "      <td>93.994</td>\n",
       "      <td>-36.4</td>\n",
       "      <td>4.857</td>\n",
       "      <td>5191.0</td>\n",
       "      <td>Less than 2min</td>\n",
       "      <td>Married</td>\n",
       "    </tr>\n",
       "    <tr>\n",
       "      <th>3</th>\n",
       "      <td>40</td>\n",
       "      <td>admin.</td>\n",
       "      <td>married</td>\n",
       "      <td>basic</td>\n",
       "      <td>no</td>\n",
       "      <td>no</td>\n",
       "      <td>no</td>\n",
       "      <td>telephone</td>\n",
       "      <td>may</td>\n",
       "      <td>mon</td>\n",
       "      <td>...</td>\n",
       "      <td>999</td>\n",
       "      <td>0</td>\n",
       "      <td>nonexistent</td>\n",
       "      <td>1.1</td>\n",
       "      <td>93.994</td>\n",
       "      <td>-36.4</td>\n",
       "      <td>4.857</td>\n",
       "      <td>5191.0</td>\n",
       "      <td>Less than 2min</td>\n",
       "      <td>Married</td>\n",
       "    </tr>\n",
       "    <tr>\n",
       "      <th>4</th>\n",
       "      <td>56</td>\n",
       "      <td>services</td>\n",
       "      <td>married</td>\n",
       "      <td>high.school</td>\n",
       "      <td>no</td>\n",
       "      <td>no</td>\n",
       "      <td>yes</td>\n",
       "      <td>telephone</td>\n",
       "      <td>may</td>\n",
       "      <td>mon</td>\n",
       "      <td>...</td>\n",
       "      <td>999</td>\n",
       "      <td>0</td>\n",
       "      <td>nonexistent</td>\n",
       "      <td>1.1</td>\n",
       "      <td>93.994</td>\n",
       "      <td>-36.4</td>\n",
       "      <td>4.857</td>\n",
       "      <td>5191.0</td>\n",
       "      <td>Less than 2min</td>\n",
       "      <td>Married</td>\n",
       "    </tr>\n",
       "  </tbody>\n",
       "</table>\n",
       "<p>5 rows × 22 columns</p>\n",
       "</div>"
      ],
      "text/plain": [
       "   age        job  marital    education credit_default housing loan  \\\n",
       "0   56  housemaid  married        basic             no      no   no   \n",
       "1   57   services  married  high.school        unknown      no   no   \n",
       "2   37   services  married  high.school             no     yes   no   \n",
       "3   40     admin.  married        basic             no      no   no   \n",
       "4   56   services  married  high.school             no      no  yes   \n",
       "\n",
       "     contact contacted_month day_of_week  ...  pdays  previous     poutcome  \\\n",
       "0  telephone             may         mon  ...    999         0  nonexistent   \n",
       "1  telephone             may         mon  ...    999         0  nonexistent   \n",
       "2  telephone             may         mon  ...    999         0  nonexistent   \n",
       "3  telephone             may         mon  ...    999         0  nonexistent   \n",
       "4  telephone             may         mon  ...    999         0  nonexistent   \n",
       "\n",
       "   emp_var_rate cons_price_idx  cons_conf_idx  euribor3m  nr_employed  \\\n",
       "0           1.1         93.994          -36.4      4.857       5191.0   \n",
       "1           1.1         93.994          -36.4      4.857       5191.0   \n",
       "2           1.1         93.994          -36.4      4.857       5191.0   \n",
       "3           1.1         93.994          -36.4      4.857       5191.0   \n",
       "4           1.1         93.994          -36.4      4.857       5191.0   \n",
       "\n",
       "   Binned_by_mins  AgeGroup  \n",
       "0  Less than 2min   Married  \n",
       "1  Less than 2min   Married  \n",
       "2  Less than 2min   Married  \n",
       "3  Less than 2min   Married  \n",
       "4  Less than 2min   Married  \n",
       "\n",
       "[5 rows x 22 columns]"
      ]
     },
     "execution_count": 19,
     "metadata": {},
     "output_type": "execute_result"
    }
   ],
   "source": [
    "X_train, y_train = df.loc[:,df.columns!='y'], df.loc[:,'y']\n",
    "\n",
    "\n",
    "X_test, y_test = test_data.loc[:,test_data.columns!='y'], test_data.loc[:,'y']\n",
    "X_train.head()"
   ]
  },
  {
   "cell_type": "markdown",
   "id": "bcfe036c",
   "metadata": {},
   "source": [
    "## Instantiate Pipeline Object"
   ]
  },
  {
   "cell_type": "code",
   "execution_count": null,
   "id": "aab2e441",
   "metadata": {},
   "outputs": [],
   "source": [
    "clf_logreg = Pipeline(steps=[('preprocessor', preprocessor),\n",
    "                      ('classifier', LogisticRegression())])"
   ]
  },
  {
   "cell_type": "markdown",
   "id": "6d34f773",
   "metadata": {},
   "source": [
    "## Build Logistic Regression Model"
   ]
  },
  {
   "cell_type": "code",
   "execution_count": null,
   "id": "9fe91177",
   "metadata": {},
   "outputs": [],
   "source": [
    "clf_logreg.fit(X_train, y_train)"
   ]
  },
  {
   "cell_type": "markdown",
   "id": "09d1a6ab",
   "metadata": {},
   "source": [
    "## Evaluate Model"
   ]
  },
  {
   "cell_type": "code",
   "execution_count": null,
   "id": "8e213154",
   "metadata": {
    "scrolled": true
   },
   "outputs": [],
   "source": [
    "train_pred = clf_logreg.predict(X_train)\n",
    "test_pred = clf_logreg.predict(X_test)\n",
    "\n",
    "print(classification_report(y_test, test_pred))"
   ]
  },
  {
   "cell_type": "markdown",
   "id": "4084a051",
   "metadata": {},
   "source": [
    "## K-Nearest Neighbour"
   ]
  },
  {
   "cell_type": "code",
   "execution_count": null,
   "id": "4fe7d2dc",
   "metadata": {},
   "outputs": [],
   "source": [
    "%%time\n",
    "knn = Pipeline(steps=[('preprocessor', preprocessor),\n",
    "                      ('classifier', KNeighborsClassifier(n_neighbors=5, metric='minkowski', p=2))])\n",
    "\n",
    "knn.fit(X_train,y_train)"
   ]
  },
  {
   "cell_type": "code",
   "execution_count": null,
   "id": "82fbe567",
   "metadata": {},
   "outputs": [],
   "source": [
    "train_pred =knn.predict(X_train)\n",
    "test_pred = knn.predict(X_test)\n",
    "\n",
    "print(classification_report(y_test, test_pred))"
   ]
  },
  {
   "cell_type": "markdown",
   "id": "dad93bd0",
   "metadata": {},
   "source": [
    "## Naive Bayes"
   ]
  },
  {
   "cell_type": "code",
   "execution_count": null,
   "id": "df0aabda",
   "metadata": {},
   "outputs": [],
   "source": [
    "%%time\n",
    "gnb = Pipeline(steps=[('preprocessor', preprocessor),\n",
    "                      ('classifier',  GaussianNB())])\n",
    "\n",
    "\n",
    "gnb.fit(X_train,y_train)"
   ]
  },
  {
   "cell_type": "code",
   "execution_count": null,
   "id": "119b3e84",
   "metadata": {},
   "outputs": [],
   "source": [
    "train_pred = gnb.predict(X_train)\n",
    "test_pred = gnb.predict(X_test)\n",
    "\n",
    "print(classification_report(y_test, test_pred))"
   ]
  },
  {
   "cell_type": "markdown",
   "id": "5196a989",
   "metadata": {},
   "source": [
    "## Build SVC Model\n",
    "### A. SVM (Linear  and RBF Models)"
   ]
  },
  {
   "cell_type": "code",
   "execution_count": null,
   "id": "0e0f785e",
   "metadata": {},
   "outputs": [],
   "source": [
    "\n",
    "%%time\n",
    "svc_lin = Pipeline(steps=[('preprocessor', preprocessor),\n",
    "                      ('classifier', SVC())])\n",
    "svc_lin.set_params(classifier__kernel='linear',classifier__C=1,\n",
    "                   classifier__random_state=123)\n",
    "svc_lin.fit(X_train,y_train)"
   ]
  },
  {
   "cell_type": "code",
   "execution_count": null,
   "id": "1ebc1dbf",
   "metadata": {},
   "outputs": [],
   "source": [
    "train_pred =svc_lin.predict(X_train)\n",
    "test_pred = svc_lin.predict(X_test)\n",
    "\n",
    "print(classification_report(y_test, test_pred))"
   ]
  },
  {
   "cell_type": "markdown",
   "id": "743e8bb3",
   "metadata": {},
   "source": [
    "### B. SVM (rbf kernel)"
   ]
  },
  {
   "cell_type": "code",
   "execution_count": null,
   "id": "2c2e1fa2",
   "metadata": {},
   "outputs": [],
   "source": [
    "%%time\n",
    "svc_rbf = Pipeline(steps=[('preprocessor', preprocessor),\n",
    "                      ('classifier', SVC())])\n",
    "svc_rbf.set_params(classifier__kernel='rbf',classifier__C=1,\n",
    "                   classifier__gamma=0.01,classifier__random_state=123)\n",
    "\n",
    "svc_rbf.fit(X_train,y_train)"
   ]
  },
  {
   "cell_type": "code",
   "execution_count": null,
   "id": "522f4368",
   "metadata": {},
   "outputs": [],
   "source": [
    "train_pred =svc_rbf.predict(X_train)\n",
    "test_pred = svc_rbf.predict(X_test)\n",
    "\n",
    "print(classification_report(y_test, test_pred))"
   ]
  },
  {
   "cell_type": "markdown",
   "id": "eab0f755",
   "metadata": {},
   "source": [
    "## SVM (Grid Search CV)"
   ]
  },
  {
   "cell_type": "code",
   "execution_count": null,
   "id": "2654fd52",
   "metadata": {},
   "outputs": [],
   "source": [
    "clf_svc = Pipeline(steps=[('preprocessor', preprocessor),\n",
    "                      ('classifier', SVC())])\n",
    "svc_param_grid = {'classifier__C': [0.001], \n",
    "                  'classifier__gamma':[0.1], \n",
    "                 \"classifier__kernel\":['rbf']}\n",
    "svc_grid = GridSearchCV(clf_svc, param_grid=svc_param_grid, cv=5)"
   ]
  },
  {
   "cell_type": "code",
   "execution_count": null,
   "id": "5735aa83",
   "metadata": {},
   "outputs": [],
   "source": [
    "svc_grid"
   ]
  },
  {
   "cell_type": "code",
   "execution_count": null,
   "id": "61a4df9a",
   "metadata": {},
   "outputs": [],
   "source": [
    "%%time\n",
    "svc_grid.fit(X_train,y_train)"
   ]
  },
  {
   "cell_type": "code",
   "execution_count": null,
   "id": "97a7c23c",
   "metadata": {},
   "outputs": [],
   "source": [
    "svc_grid.best_params_"
   ]
  },
  {
   "cell_type": "code",
   "execution_count": null,
   "id": "93c81593",
   "metadata": {},
   "outputs": [],
   "source": [
    "train_pred = svc_grid.predict(X_train)\n",
    "test_pred = svc_grid.predict(X_test)\n",
    "\n",
    "print(classification_report(y_test, test_pred))"
   ]
  },
  {
   "cell_type": "markdown",
   "id": "a376bedb",
   "metadata": {},
   "source": [
    "## Decision Tree"
   ]
  },
  {
   "cell_type": "code",
   "execution_count": null,
   "id": "a1e52b0d",
   "metadata": {},
   "outputs": [],
   "source": [
    "%%time\n",
    "clf_dt = Pipeline(steps=[('classifier', DecisionTreeClassifier())])\n",
    "\n",
    "dt_param_grid = {'classifier__criterion': ['entropy', 'gini'], 'classifier__max_depth': [6,8,10,12], \n",
    "                 \"classifier__min_samples_split\": [2, 10, 20],\"classifier__min_samples_leaf\": [1, 5, 10]}\n",
    "\n",
    "dt_grid_bal = GridSearchCV(clf_dt, param_grid=dt_param_grid, cv=5)\n",
    "\n",
    "dt_grid_bal.fit(X_train,y_train)"
   ]
  },
  {
   "cell_type": "code",
   "execution_count": null,
   "id": "aa350a02",
   "metadata": {},
   "outputs": [],
   "source": []
  },
  {
   "cell_type": "code",
   "execution_count": null,
   "id": "65014fdd",
   "metadata": {},
   "outputs": [],
   "source": [
    "dt_grid.best_params_"
   ]
  },
  {
   "cell_type": "code",
   "execution_count": null,
   "id": "797be342",
   "metadata": {},
   "outputs": [],
   "source": [
    "train_pred = svc_grid.predict(X_train)\n",
    "test_pred = svc_grid.predict(X_test)\n",
    "\n",
    "print(classification_report(y_test, test_pred))"
   ]
  },
  {
   "cell_type": "markdown",
   "id": "20b2d402",
   "metadata": {},
   "source": [
    "## XGBoost Model "
   ]
  },
  {
   "cell_type": "code",
   "execution_count": null,
   "id": "d3157383",
   "metadata": {},
   "outputs": [],
   "source": [
    "#train XGBoost model\n",
    "xgb = xgb.XGBClassifier(n_estimators=100, learning_rate=0.08, gamma=0, subsample=0.75,\n",
    "                           colsample_bytree=1, max_depth=7)\n",
    "xgb.fit(X_train,y_train.squeeze().values)\n",
    "\n",
    "#calculate and print scores for the model for top 15 features\n",
    "y_train_preds = xgb.predict(X_train)\n",
    "y_test_preds = xgb.predict(X_test)\n",
    "\n",
    "print('XGB accuracy score for train: %.3f: test: %.3f' % (\n",
    "        accuracy_score(y_train, y_train_preds),\n",
    "        accuracy_score(y_test, y_test_preds)))\n",
    "cm = confusion_matrix(y_test, y_test_preds)\n",
    "# cm\n",
    "# # calculate prediction\n",
    "# precision = precision_score(y_true, y_pred, average='binary')\n",
    "# print('Precision: %.3f' % precision)\n",
    "\n",
    "print(classification_report(y_test, y_test_preds))\n"
   ]
  },
  {
   "cell_type": "code",
   "execution_count": null,
   "id": "50088a39",
   "metadata": {},
   "outputs": [],
   "source": [
    "#get feature importances from the model\n",
    "headers = [\"name\", \"score\"]\n",
    "values = sorted(zip(X_train.columns, xgb.feature_importances_), key=lambda x: x[1] * -1)\n",
    "xgb_feature_importances = pd.DataFrame(values, columns = headers)\n",
    "\n",
    "#plot feature importances\n",
    "x_pos = np.arange(0, len(xgb_feature_importances))\n",
    "plt.bar(x_pos, xgb_feature_importances['score'])\n",
    "plt.xticks(x_pos, xgb_feature_importances['name'])\n",
    "plt.xticks(rotation=90)\n",
    "plt.title('Feature importances (XGB)')\n",
    "\n",
    "plt.show()"
   ]
  },
  {
   "cell_type": "markdown",
   "id": "df85b60a",
   "metadata": {},
   "source": [
    "## Build Random Forest"
   ]
  },
  {
   "cell_type": "code",
   "execution_count": 21,
   "id": "5a193d98",
   "metadata": {},
   "outputs": [
    {
     "ename": "NameError",
     "evalue": "name 'preprocessor' is not defined",
     "output_type": "error",
     "traceback": [
      "\u001b[1;31m---------------------------------------------------------------------------\u001b[0m",
      "\u001b[1;31mNameError\u001b[0m                                 Traceback (most recent call last)",
      "Input \u001b[1;32mIn [21]\u001b[0m, in \u001b[0;36m<cell line: 1>\u001b[1;34m()\u001b[0m\n\u001b[1;32m----> 1\u001b[0m Rf \u001b[38;5;241m=\u001b[39m Pipeline(steps\u001b[38;5;241m=\u001b[39m[(\u001b[38;5;124m'\u001b[39m\u001b[38;5;124mpreprocessor\u001b[39m\u001b[38;5;124m'\u001b[39m, \u001b[43mpreprocessor\u001b[49m),\n\u001b[0;32m      2\u001b[0m                       (\u001b[38;5;124m'\u001b[39m\u001b[38;5;124mclassifier\u001b[39m\u001b[38;5;124m'\u001b[39m,RandomForestClassifier(random_state\u001b[38;5;241m=\u001b[39m\u001b[38;5;241m42\u001b[39m))])\n",
      "\u001b[1;31mNameError\u001b[0m: name 'preprocessor' is not defined"
     ]
    }
   ],
   "source": [
    "Rf = Pipeline(steps=[('preprocessor', preprocessor),\n",
    "                      ('classifier',RandomForestClassifier(random_state=42))])"
   ]
  },
  {
   "cell_type": "code",
   "execution_count": null,
   "id": "62e757a0",
   "metadata": {},
   "outputs": [],
   "source": [
    "Rf.fit(X_train, y_train)\n",
    "print(classification_report(y_test, y_test_preds))"
   ]
  },
  {
   "cell_type": "code",
   "execution_count": null,
   "id": "80cf6b8f",
   "metadata": {},
   "outputs": [],
   "source": [
    "from sklearn.inspection import permutation_importance\n",
    "result = permutation_importance(\n",
    "    model, X_test, y_test, n_repeats=10, random_state=42, n_jobs=2\n",
    ")\n",
    "sorted_idx = result.importances_mean.argsort()\n",
    "\n",
    "fig, ax = plt.subplots()\n",
    "ax.boxplot(\n",
    "    result.importances[sorted_idx].T, vert=False, labels=X_test.columns[sorted_idx]\n",
    ")\n",
    "ax.set_title(\"Permutation Importances (test set)\")\n",
    "fig.tight_layout()\n",
    "plt.show()"
   ]
  },
  {
   "cell_type": "code",
   "execution_count": null,
   "id": "dfe0f1aa",
   "metadata": {},
   "outputs": [],
   "source": [
    "result = permutation_importance(\n",
    "    model, X_train, y_train, n_repeats=10, random_state=42, n_jobs=2\n",
    ")\n",
    "sorted_idx = result.importances_mean.argsort()\n",
    "\n",
    "fig, ax = plt.subplots()\n",
    "ax.boxplot(\n",
    "    result.importances[sorted_idx].T, vert=False, labels=X_train.columns[sorted_idx]\n",
    ")\n",
    "ax.set_title(\"Permutation Importances (train set)\")\n",
    "fig.tight_layout()\n",
    "plt.show()"
   ]
  },
  {
   "cell_type": "code",
   "execution_count": null,
   "id": "67fef021",
   "metadata": {},
   "outputs": [],
   "source": []
  },
  {
   "cell_type": "code",
   "execution_count": null,
   "id": "386f2bed",
   "metadata": {},
   "outputs": [],
   "source": []
  },
  {
   "cell_type": "code",
   "execution_count": null,
   "id": "2ab1f3f9",
   "metadata": {},
   "outputs": [],
   "source": []
  },
  {
   "cell_type": "code",
   "execution_count": null,
   "id": "ed2edeab",
   "metadata": {},
   "outputs": [],
   "source": []
  },
  {
   "cell_type": "code",
   "execution_count": null,
   "id": "f718f25d",
   "metadata": {},
   "outputs": [],
   "source": []
  },
  {
   "cell_type": "code",
   "execution_count": null,
   "id": "09136152",
   "metadata": {},
   "outputs": [],
   "source": []
  },
  {
   "cell_type": "code",
   "execution_count": null,
   "id": "e16d6335",
   "metadata": {},
   "outputs": [],
   "source": []
  },
  {
   "cell_type": "code",
   "execution_count": null,
   "id": "90d52aad",
   "metadata": {},
   "outputs": [],
   "source": []
  },
  {
   "cell_type": "code",
   "execution_count": null,
   "id": "18949628",
   "metadata": {},
   "outputs": [],
   "source": []
  },
  {
   "cell_type": "code",
   "execution_count": null,
   "id": "9c8fc664",
   "metadata": {},
   "outputs": [],
   "source": []
  },
  {
   "cell_type": "code",
   "execution_count": null,
   "id": "766efe2c",
   "metadata": {},
   "outputs": [],
   "source": []
  }
 ],
 "metadata": {
  "kernelspec": {
   "display_name": "Python 3 (ipykernel)",
   "language": "python",
   "name": "python3"
  },
  "language_info": {
   "codemirror_mode": {
    "name": "ipython",
    "version": 3
   },
   "file_extension": ".py",
   "mimetype": "text/x-python",
   "name": "python",
   "nbconvert_exporter": "python",
   "pygments_lexer": "ipython3",
   "version": "3.9.12"
  }
 },
 "nbformat": 4,
 "nbformat_minor": 5
}
